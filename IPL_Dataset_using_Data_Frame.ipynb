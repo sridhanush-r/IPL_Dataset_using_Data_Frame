{
 "cells": [
  {
   "cell_type": "code",
   "execution_count": 16,
   "id": "57496f7f",
   "metadata": {},
   "outputs": [],
   "source": [
    "import pandas as pd\n",
    "ipl_df= pd.read_csv(\"IPL Matches 2008-2020.csv\")"
   ]
  },
  {
   "cell_type": "code",
   "execution_count": 17,
   "id": "f0dcb9bf",
   "metadata": {},
   "outputs": [
    {
     "data": {
      "text/html": [
       "<div>\n",
       "<style scoped>\n",
       "    .dataframe tbody tr th:only-of-type {\n",
       "        vertical-align: middle;\n",
       "    }\n",
       "\n",
       "    .dataframe tbody tr th {\n",
       "        vertical-align: top;\n",
       "    }\n",
       "\n",
       "    .dataframe thead th {\n",
       "        text-align: right;\n",
       "    }\n",
       "</style>\n",
       "<table border=\"1\" class=\"dataframe\">\n",
       "  <thead>\n",
       "    <tr style=\"text-align: right;\">\n",
       "      <th></th>\n",
       "      <th>id</th>\n",
       "      <th>city</th>\n",
       "      <th>date</th>\n",
       "      <th>player_of_match</th>\n",
       "      <th>venue</th>\n",
       "      <th>neutral_venue</th>\n",
       "      <th>team1</th>\n",
       "      <th>team2</th>\n",
       "      <th>toss_winner</th>\n",
       "      <th>toss_decision</th>\n",
       "      <th>winner</th>\n",
       "      <th>result</th>\n",
       "      <th>result_margin</th>\n",
       "      <th>eliminator</th>\n",
       "      <th>method</th>\n",
       "      <th>umpire1</th>\n",
       "      <th>umpire2</th>\n",
       "    </tr>\n",
       "  </thead>\n",
       "  <tbody>\n",
       "    <tr>\n",
       "      <th>0</th>\n",
       "      <td>335982</td>\n",
       "      <td>Bangalore</td>\n",
       "      <td>2008-04-18</td>\n",
       "      <td>BB McCullum</td>\n",
       "      <td>M Chinnaswamy Stadium</td>\n",
       "      <td>0</td>\n",
       "      <td>Royal Challengers Bangalore</td>\n",
       "      <td>Kolkata Knight Riders</td>\n",
       "      <td>Royal Challengers Bangalore</td>\n",
       "      <td>field</td>\n",
       "      <td>Kolkata Knight Riders</td>\n",
       "      <td>runs</td>\n",
       "      <td>140.0</td>\n",
       "      <td>N</td>\n",
       "      <td>NaN</td>\n",
       "      <td>Asad Rauf</td>\n",
       "      <td>RE Koertzen</td>\n",
       "    </tr>\n",
       "    <tr>\n",
       "      <th>1</th>\n",
       "      <td>335983</td>\n",
       "      <td>Chandigarh</td>\n",
       "      <td>2008-04-19</td>\n",
       "      <td>MEK Hussey</td>\n",
       "      <td>Punjab Cricket Association Stadium, Mohali</td>\n",
       "      <td>0</td>\n",
       "      <td>Kings XI Punjab</td>\n",
       "      <td>Chennai Super Kings</td>\n",
       "      <td>Chennai Super Kings</td>\n",
       "      <td>bat</td>\n",
       "      <td>Chennai Super Kings</td>\n",
       "      <td>runs</td>\n",
       "      <td>33.0</td>\n",
       "      <td>N</td>\n",
       "      <td>NaN</td>\n",
       "      <td>MR Benson</td>\n",
       "      <td>SL Shastri</td>\n",
       "    </tr>\n",
       "    <tr>\n",
       "      <th>2</th>\n",
       "      <td>335984</td>\n",
       "      <td>Delhi</td>\n",
       "      <td>2008-04-19</td>\n",
       "      <td>MF Maharoof</td>\n",
       "      <td>Feroz Shah Kotla</td>\n",
       "      <td>0</td>\n",
       "      <td>Delhi Daredevils</td>\n",
       "      <td>Rajasthan Royals</td>\n",
       "      <td>Rajasthan Royals</td>\n",
       "      <td>bat</td>\n",
       "      <td>Delhi Daredevils</td>\n",
       "      <td>wickets</td>\n",
       "      <td>9.0</td>\n",
       "      <td>N</td>\n",
       "      <td>NaN</td>\n",
       "      <td>Aleem Dar</td>\n",
       "      <td>GA Pratapkumar</td>\n",
       "    </tr>\n",
       "    <tr>\n",
       "      <th>3</th>\n",
       "      <td>335985</td>\n",
       "      <td>Mumbai</td>\n",
       "      <td>2008-04-20</td>\n",
       "      <td>MV Boucher</td>\n",
       "      <td>Wankhede Stadium</td>\n",
       "      <td>0</td>\n",
       "      <td>Mumbai Indians</td>\n",
       "      <td>Royal Challengers Bangalore</td>\n",
       "      <td>Mumbai Indians</td>\n",
       "      <td>bat</td>\n",
       "      <td>Royal Challengers Bangalore</td>\n",
       "      <td>wickets</td>\n",
       "      <td>5.0</td>\n",
       "      <td>N</td>\n",
       "      <td>NaN</td>\n",
       "      <td>SJ Davis</td>\n",
       "      <td>DJ Harper</td>\n",
       "    </tr>\n",
       "    <tr>\n",
       "      <th>4</th>\n",
       "      <td>335986</td>\n",
       "      <td>Kolkata</td>\n",
       "      <td>2008-04-20</td>\n",
       "      <td>DJ Hussey</td>\n",
       "      <td>Eden Gardens</td>\n",
       "      <td>0</td>\n",
       "      <td>Kolkata Knight Riders</td>\n",
       "      <td>Deccan Chargers</td>\n",
       "      <td>Deccan Chargers</td>\n",
       "      <td>bat</td>\n",
       "      <td>Kolkata Knight Riders</td>\n",
       "      <td>wickets</td>\n",
       "      <td>5.0</td>\n",
       "      <td>N</td>\n",
       "      <td>NaN</td>\n",
       "      <td>BF Bowden</td>\n",
       "      <td>K Hariharan</td>\n",
       "    </tr>\n",
       "  </tbody>\n",
       "</table>\n",
       "</div>"
      ],
      "text/plain": [
       "       id        city        date player_of_match  \\\n",
       "0  335982   Bangalore  2008-04-18     BB McCullum   \n",
       "1  335983  Chandigarh  2008-04-19      MEK Hussey   \n",
       "2  335984       Delhi  2008-04-19     MF Maharoof   \n",
       "3  335985      Mumbai  2008-04-20      MV Boucher   \n",
       "4  335986     Kolkata  2008-04-20       DJ Hussey   \n",
       "\n",
       "                                        venue  neutral_venue  \\\n",
       "0                       M Chinnaswamy Stadium              0   \n",
       "1  Punjab Cricket Association Stadium, Mohali              0   \n",
       "2                            Feroz Shah Kotla              0   \n",
       "3                            Wankhede Stadium              0   \n",
       "4                                Eden Gardens              0   \n",
       "\n",
       "                         team1                        team2  \\\n",
       "0  Royal Challengers Bangalore        Kolkata Knight Riders   \n",
       "1              Kings XI Punjab          Chennai Super Kings   \n",
       "2             Delhi Daredevils             Rajasthan Royals   \n",
       "3               Mumbai Indians  Royal Challengers Bangalore   \n",
       "4        Kolkata Knight Riders              Deccan Chargers   \n",
       "\n",
       "                   toss_winner toss_decision                       winner  \\\n",
       "0  Royal Challengers Bangalore         field        Kolkata Knight Riders   \n",
       "1          Chennai Super Kings           bat          Chennai Super Kings   \n",
       "2             Rajasthan Royals           bat             Delhi Daredevils   \n",
       "3               Mumbai Indians           bat  Royal Challengers Bangalore   \n",
       "4              Deccan Chargers           bat        Kolkata Knight Riders   \n",
       "\n",
       "    result  result_margin eliminator method    umpire1         umpire2  \n",
       "0     runs          140.0          N    NaN  Asad Rauf     RE Koertzen  \n",
       "1     runs           33.0          N    NaN  MR Benson      SL Shastri  \n",
       "2  wickets            9.0          N    NaN  Aleem Dar  GA Pratapkumar  \n",
       "3  wickets            5.0          N    NaN   SJ Davis       DJ Harper  \n",
       "4  wickets            5.0          N    NaN  BF Bowden     K Hariharan  "
      ]
     },
     "execution_count": 17,
     "metadata": {},
     "output_type": "execute_result"
    }
   ],
   "source": [
    "#head\n",
    "ipl_df.head()"
   ]
  },
  {
   "cell_type": "code",
   "execution_count": 18,
   "id": "5273f907",
   "metadata": {},
   "outputs": [
    {
     "name": "stdout",
     "output_type": "stream",
     "text": [
      "IS NULL \n",
      "         id   city   date  player_of_match  venue  neutral_venue  team1  team2  \\\n",
      "0    False  False  False            False  False          False  False  False   \n",
      "1    False  False  False            False  False          False  False  False   \n",
      "2    False  False  False            False  False          False  False  False   \n",
      "3    False  False  False            False  False          False  False  False   \n",
      "4    False  False  False            False  False          False  False  False   \n",
      "..     ...    ...    ...              ...    ...            ...    ...    ...   \n",
      "811  False  False  False            False  False          False  False  False   \n",
      "812  False  False  False            False  False          False  False  False   \n",
      "813  False  False  False            False  False          False  False  False   \n",
      "814  False  False  False            False  False          False  False  False   \n",
      "815  False  False  False            False  False          False  False  False   \n",
      "\n",
      "     toss_winner  toss_decision  winner  result  result_margin  eliminator  \\\n",
      "0          False          False   False   False          False       False   \n",
      "1          False          False   False   False          False       False   \n",
      "2          False          False   False   False          False       False   \n",
      "3          False          False   False   False          False       False   \n",
      "4          False          False   False   False          False       False   \n",
      "..           ...            ...     ...     ...            ...         ...   \n",
      "811        False          False   False   False           True       False   \n",
      "812        False          False   False   False          False       False   \n",
      "813        False          False   False   False          False       False   \n",
      "814        False          False   False   False          False       False   \n",
      "815        False          False   False   False          False       False   \n",
      "\n",
      "     method  umpire1  umpire2  \n",
      "0      True    False    False  \n",
      "1      True    False    False  \n",
      "2      True    False    False  \n",
      "3      True    False    False  \n",
      "4      True    False    False  \n",
      "..      ...      ...      ...  \n",
      "811    True    False    False  \n",
      "812    True    False    False  \n",
      "813    True    False    False  \n",
      "814    True    False    False  \n",
      "815    True    False    False  \n",
      "\n",
      "[816 rows x 17 columns]\n"
     ]
    }
   ],
   "source": [
    "#is null\n",
    "print(\"IS NULL \\n\",ipl_df.isnull())"
   ]
  },
  {
   "cell_type": "code",
   "execution_count": 19,
   "id": "94398a4b",
   "metadata": {},
   "outputs": [
    {
     "name": "stdout",
     "output_type": "stream",
     "text": [
      "\n",
      "IS NULL ANY() \n",
      " id                 False\n",
      "city                True\n",
      "date               False\n",
      "player_of_match     True\n",
      "venue              False\n",
      "neutral_venue      False\n",
      "team1              False\n",
      "team2              False\n",
      "toss_winner        False\n",
      "toss_decision      False\n",
      "winner              True\n",
      "result              True\n",
      "result_margin       True\n",
      "eliminator          True\n",
      "method              True\n",
      "umpire1            False\n",
      "umpire2            False\n",
      "dtype: bool\n"
     ]
    }
   ],
   "source": [
    "#is null any\n",
    "print(\"\\nIS NULL ANY() \\n\",ipl_df.isnull().any())"
   ]
  },
  {
   "cell_type": "code",
   "execution_count": 20,
   "id": "605cdfe8",
   "metadata": {},
   "outputs": [
    {
     "name": "stdout",
     "output_type": "stream",
     "text": [
      "\n",
      "IS NULL SUM() \n",
      " id                   0\n",
      "city                13\n",
      "date                 0\n",
      "player_of_match      4\n",
      "venue                0\n",
      "neutral_venue        0\n",
      "team1                0\n",
      "team2                0\n",
      "toss_winner          0\n",
      "toss_decision        0\n",
      "winner               4\n",
      "result               4\n",
      "result_margin       17\n",
      "eliminator           4\n",
      "method             797\n",
      "umpire1              0\n",
      "umpire2              0\n",
      "dtype: int64\n"
     ]
    }
   ],
   "source": [
    "#is null sum\n",
    "print(\"\\nIS NULL SUM() \\n\",ipl_df.isnull().sum())"
   ]
  },
  {
   "cell_type": "code",
   "execution_count": 21,
   "id": "8f184414",
   "metadata": {},
   "outputs": [
    {
     "name": "stdout",
     "output_type": "stream",
     "text": [
      "<class 'pandas.core.frame.DataFrame'>\n",
      "RangeIndex: 816 entries, 0 to 815\n",
      "Data columns (total 17 columns):\n",
      " #   Column           Non-Null Count  Dtype  \n",
      "---  ------           --------------  -----  \n",
      " 0   id               816 non-null    int64  \n",
      " 1   city             803 non-null    object \n",
      " 2   date             816 non-null    object \n",
      " 3   player_of_match  812 non-null    object \n",
      " 4   venue            816 non-null    object \n",
      " 5   neutral_venue    816 non-null    int64  \n",
      " 6   team1            816 non-null    object \n",
      " 7   team2            816 non-null    object \n",
      " 8   toss_winner      816 non-null    object \n",
      " 9   toss_decision    816 non-null    object \n",
      " 10  winner           812 non-null    object \n",
      " 11  result           812 non-null    object \n",
      " 12  result_margin    799 non-null    float64\n",
      " 13  eliminator       812 non-null    object \n",
      " 14  method           19 non-null     object \n",
      " 15  umpire1          816 non-null    object \n",
      " 16  umpire2          816 non-null    object \n",
      "dtypes: float64(1), int64(2), object(14)\n",
      "memory usage: 108.5+ KB\n",
      "\n",
      "INFO \n",
      " None\n"
     ]
    }
   ],
   "source": [
    "#info\n",
    "print(\"\\nINFO \\n\",ipl_df.info())"
   ]
  },
  {
   "cell_type": "code",
   "execution_count": 22,
   "id": "23579c57",
   "metadata": {},
   "outputs": [
    {
     "name": "stdout",
     "output_type": "stream",
     "text": [
      "\n",
      "DESCRIBE \n",
      "                  id  neutral_venue  result_margin\n",
      "count  8.160000e+02     816.000000     799.000000\n",
      "mean   7.563496e+05       0.094363      17.321652\n",
      "std    3.058943e+05       0.292512      22.068427\n",
      "min    3.359820e+05       0.000000       1.000000\n",
      "25%    5.012278e+05       0.000000       6.000000\n",
      "50%    7.292980e+05       0.000000       8.000000\n",
      "75%    1.082626e+06       0.000000      19.500000\n",
      "max    1.237181e+06       1.000000     146.000000\n"
     ]
    }
   ],
   "source": [
    "#describe\n",
    "print(\"\\nDESCRIBE \\n\",ipl_df.describe())"
   ]
  },
  {
   "cell_type": "code",
   "execution_count": 23,
   "id": "60ae35dc",
   "metadata": {},
   "outputs": [
    {
     "name": "stdout",
     "output_type": "stream",
     "text": [
      "\n",
      "shape\n",
      "  (816, 17)\n"
     ]
    }
   ],
   "source": [
    "#shape\n",
    "print(\"\\nshape\\n \",ipl_df.shape)"
   ]
  },
  {
   "cell_type": "code",
   "execution_count": 24,
   "id": "04652779",
   "metadata": {
    "scrolled": true
   },
   "outputs": [
    {
     "name": "stdout",
     "output_type": "stream",
     "text": [
      "          id        city        date player_of_match  \\\n",
      "0     335982   Bangalore  2008-04-18     BB McCullum   \n",
      "1     335983  Chandigarh  2008-04-19      MEK Hussey   \n",
      "2     335984       Delhi  2008-04-19     MF Maharoof   \n",
      "3     335985      Mumbai  2008-04-20      MV Boucher   \n",
      "4     335986     Kolkata  2008-04-20       DJ Hussey   \n",
      "..       ...         ...         ...             ...   \n",
      "811  1216547       Dubai  2020-09-28  AB de Villiers   \n",
      "812  1237177       Dubai  2020-11-05       JJ Bumrah   \n",
      "813  1237178   Abu Dhabi  2020-11-06   KS Williamson   \n",
      "814  1237180   Abu Dhabi  2020-11-08      MP Stoinis   \n",
      "815  1237181       Dubai  2020-11-10        TA Boult   \n",
      "\n",
      "                                          venue  neutral_venue  \\\n",
      "0                         M Chinnaswamy Stadium              0   \n",
      "1    Punjab Cricket Association Stadium, Mohali              0   \n",
      "2                              Feroz Shah Kotla              0   \n",
      "3                              Wankhede Stadium              0   \n",
      "4                                  Eden Gardens              0   \n",
      "..                                          ...            ...   \n",
      "811         Dubai International Cricket Stadium              0   \n",
      "812         Dubai International Cricket Stadium              0   \n",
      "813                        Sheikh Zayed Stadium              0   \n",
      "814                        Sheikh Zayed Stadium              0   \n",
      "815         Dubai International Cricket Stadium              0   \n",
      "\n",
      "                           team1                        team2  \\\n",
      "0    Royal Challengers Bangalore        Kolkata Knight Riders   \n",
      "1                Kings XI Punjab          Chennai Super Kings   \n",
      "2               Delhi Daredevils             Rajasthan Royals   \n",
      "3                 Mumbai Indians  Royal Challengers Bangalore   \n",
      "4          Kolkata Knight Riders              Deccan Chargers   \n",
      "..                           ...                          ...   \n",
      "811  Royal Challengers Bangalore               Mumbai Indians   \n",
      "812               Mumbai Indians               Delhi Capitals   \n",
      "813  Royal Challengers Bangalore          Sunrisers Hyderabad   \n",
      "814               Delhi Capitals          Sunrisers Hyderabad   \n",
      "815               Delhi Capitals               Mumbai Indians   \n",
      "\n",
      "                     toss_winner toss_decision                       winner  \\\n",
      "0    Royal Challengers Bangalore         field        Kolkata Knight Riders   \n",
      "1            Chennai Super Kings           bat          Chennai Super Kings   \n",
      "2               Rajasthan Royals           bat             Delhi Daredevils   \n",
      "3                 Mumbai Indians           bat  Royal Challengers Bangalore   \n",
      "4                Deccan Chargers           bat        Kolkata Knight Riders   \n",
      "..                           ...           ...                          ...   \n",
      "811               Mumbai Indians         field  Royal Challengers Bangalore   \n",
      "812               Delhi Capitals         field               Mumbai Indians   \n",
      "813          Sunrisers Hyderabad         field          Sunrisers Hyderabad   \n",
      "814               Delhi Capitals           bat               Delhi Capitals   \n",
      "815               Delhi Capitals           bat               Mumbai Indians   \n",
      "\n",
      "      result  result_margin eliminator method      umpire1         umpire2  \n",
      "0       runs          140.0          N    NaN    Asad Rauf     RE Koertzen  \n",
      "1       runs           33.0          N    NaN    MR Benson      SL Shastri  \n",
      "2    wickets            9.0          N    NaN    Aleem Dar  GA Pratapkumar  \n",
      "3    wickets            5.0          N    NaN     SJ Davis       DJ Harper  \n",
      "4    wickets            5.0          N    NaN    BF Bowden     K Hariharan  \n",
      "..       ...            ...        ...    ...          ...             ...  \n",
      "811      tie            NaN          Y    NaN  Nitin Menon      PR Reiffel  \n",
      "812     runs           57.0          N    NaN  CB Gaffaney     Nitin Menon  \n",
      "813  wickets            6.0          N    NaN   PR Reiffel          S Ravi  \n",
      "814     runs           17.0          N    NaN   PR Reiffel          S Ravi  \n",
      "815  wickets            5.0          N    NaN  CB Gaffaney     Nitin Menon  \n",
      "\n",
      "[815 rows x 17 columns]\n"
     ]
    }
   ],
   "source": [
    "#to delete row\n",
    "print(ipl_df.drop([5],axis=0))"
   ]
  },
  {
   "cell_type": "code",
   "execution_count": 25,
   "id": "87ed4242",
   "metadata": {},
   "outputs": [
    {
     "name": "stdout",
     "output_type": "stream",
     "text": [
      "          id        city        date player_of_match  \\\n",
      "0     335982   Bangalore  2008-04-18     BB McCullum   \n",
      "1     335983  Chandigarh  2008-04-19      MEK Hussey   \n",
      "2     335984       Delhi  2008-04-19     MF Maharoof   \n",
      "3     335985      Mumbai  2008-04-20      MV Boucher   \n",
      "4     335986     Kolkata  2008-04-20       DJ Hussey   \n",
      "..       ...         ...         ...             ...   \n",
      "811  1216547       Dubai  2020-09-28  AB de Villiers   \n",
      "812  1237177       Dubai  2020-11-05       JJ Bumrah   \n",
      "813  1237178   Abu Dhabi  2020-11-06   KS Williamson   \n",
      "814  1237180   Abu Dhabi  2020-11-08      MP Stoinis   \n",
      "815  1237181       Dubai  2020-11-10        TA Boult   \n",
      "\n",
      "                                          venue  neutral_venue  \\\n",
      "0                         M Chinnaswamy Stadium              0   \n",
      "1    Punjab Cricket Association Stadium, Mohali              0   \n",
      "2                              Feroz Shah Kotla              0   \n",
      "3                              Wankhede Stadium              0   \n",
      "4                                  Eden Gardens              0   \n",
      "..                                          ...            ...   \n",
      "811         Dubai International Cricket Stadium              0   \n",
      "812         Dubai International Cricket Stadium              0   \n",
      "813                        Sheikh Zayed Stadium              0   \n",
      "814                        Sheikh Zayed Stadium              0   \n",
      "815         Dubai International Cricket Stadium              0   \n",
      "\n",
      "                           team1                        team2  \\\n",
      "0    Royal Challengers Bangalore        Kolkata Knight Riders   \n",
      "1                Kings XI Punjab          Chennai Super Kings   \n",
      "2               Delhi Daredevils             Rajasthan Royals   \n",
      "3                 Mumbai Indians  Royal Challengers Bangalore   \n",
      "4          Kolkata Knight Riders              Deccan Chargers   \n",
      "..                           ...                          ...   \n",
      "811  Royal Challengers Bangalore               Mumbai Indians   \n",
      "812               Mumbai Indians               Delhi Capitals   \n",
      "813  Royal Challengers Bangalore          Sunrisers Hyderabad   \n",
      "814               Delhi Capitals          Sunrisers Hyderabad   \n",
      "815               Delhi Capitals               Mumbai Indians   \n",
      "\n",
      "                     toss_winner toss_decision                       winner  \\\n",
      "0    Royal Challengers Bangalore         field        Kolkata Knight Riders   \n",
      "1            Chennai Super Kings           bat          Chennai Super Kings   \n",
      "2               Rajasthan Royals           bat             Delhi Daredevils   \n",
      "3                 Mumbai Indians           bat  Royal Challengers Bangalore   \n",
      "4                Deccan Chargers           bat        Kolkata Knight Riders   \n",
      "..                           ...           ...                          ...   \n",
      "811               Mumbai Indians         field  Royal Challengers Bangalore   \n",
      "812               Delhi Capitals         field               Mumbai Indians   \n",
      "813          Sunrisers Hyderabad         field          Sunrisers Hyderabad   \n",
      "814               Delhi Capitals           bat               Delhi Capitals   \n",
      "815               Delhi Capitals           bat               Mumbai Indians   \n",
      "\n",
      "      result  result_margin method      umpire1         umpire2  \n",
      "0       runs          140.0    NaN    Asad Rauf     RE Koertzen  \n",
      "1       runs           33.0    NaN    MR Benson      SL Shastri  \n",
      "2    wickets            9.0    NaN    Aleem Dar  GA Pratapkumar  \n",
      "3    wickets            5.0    NaN     SJ Davis       DJ Harper  \n",
      "4    wickets            5.0    NaN    BF Bowden     K Hariharan  \n",
      "..       ...            ...    ...          ...             ...  \n",
      "811      tie            NaN    NaN  Nitin Menon      PR Reiffel  \n",
      "812     runs           57.0    NaN  CB Gaffaney     Nitin Menon  \n",
      "813  wickets            6.0    NaN   PR Reiffel          S Ravi  \n",
      "814     runs           17.0    NaN   PR Reiffel          S Ravi  \n",
      "815  wickets            5.0    NaN  CB Gaffaney     Nitin Menon  \n",
      "\n",
      "[816 rows x 16 columns]\n"
     ]
    }
   ],
   "source": [
    "#to delete column\n",
    "print(ipl_df.drop(columns=[\"eliminator\"],axis=1))"
   ]
  },
  {
   "cell_type": "code",
   "execution_count": 26,
   "id": "38243b54",
   "metadata": {},
   "outputs": [
    {
     "name": "stdout",
     "output_type": "stream",
     "text": [
      "0.09436274509803921\n"
     ]
    }
   ],
   "source": [
    "#to calculate the mean value\n",
    "mean_value=ipl_df['neutral_venue'].mean()\n",
    "print(mean_value)"
   ]
  },
  {
   "cell_type": "code",
   "execution_count": 27,
   "id": "a88faf81",
   "metadata": {},
   "outputs": [
    {
     "name": "stdout",
     "output_type": "stream",
     "text": [
      "0      0\n",
      "1      0\n",
      "2      0\n",
      "3      0\n",
      "4      0\n",
      "      ..\n",
      "811    0\n",
      "812    0\n",
      "813    0\n",
      "814    0\n",
      "815    0\n",
      "Name: neutral_venue, Length: 816, dtype: int64\n"
     ]
    }
   ],
   "source": [
    "#to fill the mean value in the null space\n",
    "ipl_df['neutral_venue'].fillna(mean_value,inplace=True)\n",
    "print(ipl_df['neutral_venue'])"
   ]
  },
  {
   "cell_type": "code",
   "execution_count": 28,
   "id": "b5668b70",
   "metadata": {},
   "outputs": [
    {
     "name": "stdout",
     "output_type": "stream",
     "text": [
      "HEAD\n",
      "        id        city        date player_of_match  \\\n",
      "0  335982   Bangalore  2008-04-18     BB McCullum   \n",
      "1  335983  Chandigarh  2008-04-19      MEK Hussey   \n",
      "2  335984       Delhi  2008-04-19     MF Maharoof   \n",
      "3  335985      Mumbai  2008-04-20      MV Boucher   \n",
      "4  335986     Kolkata  2008-04-20       DJ Hussey   \n",
      "\n",
      "                                        venue  neutral_venue  \\\n",
      "0                       M Chinnaswamy Stadium              0   \n",
      "1  Punjab Cricket Association Stadium, Mohali              0   \n",
      "2                            Feroz Shah Kotla              0   \n",
      "3                            Wankhede Stadium              0   \n",
      "4                                Eden Gardens              0   \n",
      "\n",
      "                         team1                        team2  \\\n",
      "0  Royal Challengers Bangalore        Kolkata Knight Riders   \n",
      "1              Kings XI Punjab          Chennai Super Kings   \n",
      "2             Delhi Daredevils             Rajasthan Royals   \n",
      "3               Mumbai Indians  Royal Challengers Bangalore   \n",
      "4        Kolkata Knight Riders              Deccan Chargers   \n",
      "\n",
      "                   toss_winner toss_decision                     team_won  \\\n",
      "0  Royal Challengers Bangalore         field        Kolkata Knight Riders   \n",
      "1          Chennai Super Kings           bat          Chennai Super Kings   \n",
      "2             Rajasthan Royals           bat             Delhi Daredevils   \n",
      "3               Mumbai Indians           bat  Royal Challengers Bangalore   \n",
      "4              Deccan Chargers           bat        Kolkata Knight Riders   \n",
      "\n",
      "    result  result_margin eliminator method    umpire1         umpire2  \n",
      "0     runs          140.0          N    NaN  Asad Rauf     RE Koertzen  \n",
      "1     runs           33.0          N    NaN  MR Benson      SL Shastri  \n",
      "2  wickets            9.0          N    NaN  Aleem Dar  GA Pratapkumar  \n",
      "3  wickets            5.0          N    NaN   SJ Davis       DJ Harper  \n",
      "4  wickets            5.0          N    NaN  BF Bowden     K Hariharan  \n"
     ]
    }
   ],
   "source": [
    "#to change the column name\n",
    "ipl_df.rename(columns = { 'winner' : 'team_won'},inplace=True)\n",
    "print(\"HEAD\\n\",ipl_df.head())"
   ]
  },
  {
   "cell_type": "code",
   "execution_count": 29,
   "id": "f663cc4a",
   "metadata": {},
   "outputs": [
    {
     "name": "stdout",
     "output_type": "stream",
     "text": [
      "       id        city        date player_of_match  \\\n",
      "0  335982   Bangalore  2008-04-18     BB McCullum   \n",
      "1  335983  Chandigarh  2008-04-19      MEK Hussey   \n",
      "2  335984       Delhi  2008-04-19     MF Maharoof   \n",
      "3  335985      Mumbai  2008-04-20      MV Boucher   \n",
      "4  335986     Kolkata  2008-04-20       DJ Hussey   \n",
      "\n",
      "                                        venue  neutral_venue  \\\n",
      "0                       M Chinnaswamy Stadium              0   \n",
      "1  Punjab Cricket Association Stadium, Mohali              0   \n",
      "2                            Feroz Shah Kotla              0   \n",
      "3                            Wankhede Stadium              0   \n",
      "4                                Eden Gardens              0   \n",
      "\n",
      "                         team1                        team2  \\\n",
      "0  Royal Challengers Bangalore        Kolkata Knight Riders   \n",
      "1              Kings XI Punjab          Chennai Super Kings   \n",
      "2             Delhi Daredevils             Rajasthan Royals   \n",
      "3               Mumbai Indians  Royal Challengers Bangalore   \n",
      "4        Kolkata Knight Riders              Deccan Chargers   \n",
      "\n",
      "                   toss_winner toss_decision                     team_won  \\\n",
      "0  Royal Challengers Bangalore         field        Kolkata Knight Riders   \n",
      "1          Chennai Super Kings           bat          Chennai Super Kings   \n",
      "2             Rajasthan Royals           bat             Delhi Daredevils   \n",
      "3               Mumbai Indians           bat  Royal Challengers Bangalore   \n",
      "4              Deccan Chargers           bat        Kolkata Knight Riders   \n",
      "\n",
      "    result  result_margin eliminator method    umpire1         umpire2  \n",
      "0     runs          140.0          N    NaN  Asad Rauf     RE Koertzen  \n",
      "1     runs           33.0          N    NaN  MR Benson      SL Shastri  \n",
      "2  wickets            9.0          N    NaN  Aleem Dar  GA Pratapkumar  \n",
      "3  wickets            5.0          N    NaN   SJ Davis       DJ Harper  \n",
      "4  wickets            5.0          N    NaN  BF Bowden     K Hariharan  \n"
     ]
    }
   ],
   "source": [
    "#slicing\n",
    "print(ipl_df[0:5])"
   ]
  },
  {
   "cell_type": "code",
   "execution_count": 30,
   "id": "8ed5a3bf",
   "metadata": {},
   "outputs": [
    {
     "data": {
      "text/plain": [
       "AB de Villiers    23\n",
       "CH Gayle          22\n",
       "RG Sharma         18\n",
       "DA Warner         17\n",
       "MS Dhoni          17\n",
       "                  ..\n",
       "S Anirudha         1\n",
       "M Kartik           1\n",
       "R McLaren          1\n",
       "RJ Harris          1\n",
       "PJ Cummins         1\n",
       "Name: player_of_match, Length: 233, dtype: int64"
      ]
     },
     "execution_count": 30,
     "metadata": {},
     "output_type": "execute_result"
    }
   ],
   "source": [
    "#to count a same value\n",
    "ipl_df['player_of_match'].value_counts()"
   ]
  },
  {
   "cell_type": "code",
   "execution_count": null,
   "id": "eca2eef2",
   "metadata": {},
   "outputs": [],
   "source": []
  }
 ],
 "metadata": {
  "kernelspec": {
   "display_name": "Python 3 (ipykernel)",
   "language": "python",
   "name": "python3"
  },
  "language_info": {
   "codemirror_mode": {
    "name": "ipython",
    "version": 3
   },
   "file_extension": ".py",
   "mimetype": "text/x-python",
   "name": "python",
   "nbconvert_exporter": "python",
   "pygments_lexer": "ipython3",
   "version": "3.9.10"
  }
 },
 "nbformat": 4,
 "nbformat_minor": 5
}

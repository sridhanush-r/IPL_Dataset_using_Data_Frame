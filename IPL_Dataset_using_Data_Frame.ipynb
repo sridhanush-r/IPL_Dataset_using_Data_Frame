{
 "cells": [
  {
   "cell_type": "code",
   "execution_count": null,
   "id": "57496f7f",
   "metadata": {},
   "outputs": [],
   "source": [
    "import pandas as pd\n",
    "ipl_df= pd.read_csv(\"IPL Matches 2008-2020.csv\")"
   ]
  },
  {
   "cell_type": "code",
   "execution_count": null,
   "id": "f0dcb9bf",
   "metadata": {},
   "outputs": [],
   "source": [
    "#head\n",
    "ipl_df.head()"
   ]
  },
  {
   "cell_type": "code",
   "execution_count": null,
   "id": "5273f907",
   "metadata": {},
   "outputs": [],
   "source": [
    "#is null\n",
    "print(\"IS NULL \\n\",ipl_df.isnull())"
   ]
  },
  {
   "cell_type": "code",
   "execution_count": null,
   "id": "94398a4b",
   "metadata": {},
   "outputs": [],
   "source": [
    "#is null any\n",
    "print(\"\\nIS NULL ANY() \\n\",ipl_df.isnull().any())"
   ]
  },
  {
   "cell_type": "code",
   "execution_count": null,
   "id": "605cdfe8",
   "metadata": {},
   "outputs": [],
   "source": [
    "#is null sum\n",
    "print(\"\\nIS NULL SUM() \\n\",ipl_df.isnull().sum())"
   ]
  },
  {
   "cell_type": "code",
   "execution_count": null,
   "id": "8f184414",
   "metadata": {},
   "outputs": [],
   "source": [
    "#info\n",
    "print(\"\\nINFO \\n\",ipl_df.info())"
   ]
  },
  {
   "cell_type": "code",
   "execution_count": null,
   "id": "23579c57",
   "metadata": {},
   "outputs": [],
   "source": [
    "#describe\n",
    "print(\"\\nDESCRIBE \\n\",ipl_df.describe())"
   ]
  },
  {
   "cell_type": "code",
   "execution_count": null,
   "id": "60ae35dc",
   "metadata": {},
   "outputs": [],
   "source": [
    "#shape\n",
    "print(\"\\nshape\\n \",ipl_df.shape)"
   ]
  },
  {
   "cell_type": "code",
   "execution_count": null,
   "id": "04652779",
   "metadata": {
    "scrolled": true
   },
   "outputs": [],
   "source": [
    "#to delete row\n",
    "print(ipl_df.drop([5],axis=0))"
   ]
  },
  {
   "cell_type": "code",
   "execution_count": null,
   "id": "87ed4242",
   "metadata": {},
   "outputs": [],
   "source": [
    "#to delete column\n",
    "print(ipl_df.drop(columns=[\"eliminator\"],axis=1))"
   ]
  },
  {
   "cell_type": "code",
   "execution_count": null,
   "id": "38243b54",
   "metadata": {},
   "outputs": [],
   "source": [
    "#to calculate the mean value\n",
    "mean_value=ipl_df['neutral_venue'].mean()\n",
    "print(mean_value)"
   ]
  },
  {
   "cell_type": "code",
   "execution_count": null,
   "id": "a88faf81",
   "metadata": {},
   "outputs": [],
   "source": [
    "#to fill the mean value in the null space\n",
    "ipl_df['neutral_venue'].fillna(mean_value,inplace=True)\n",
    "print(ipl_df['neutral_venue'])"
   ]
  },
  {
   "cell_type": "code",
   "execution_count": null,
   "id": "b5668b70",
   "metadata": {},
   "outputs": [],
   "source": [
    "#to change the column name\n",
    "ipl_df.rename(columns = { 'winner' : 'team_won'},inplace=True)\n",
    "print(\"HEAD\\n\",ipl_df.head())"
   ]
  },
  {
   "cell_type": "code",
   "execution_count": null,
   "id": "f663cc4a",
   "metadata": {},
   "outputs": [],
   "source": [
    "#slicing\n",
    "print(ipl_df[0:5])"
   ]
  },
  {
   "cell_type": "code",
   "execution_count": null,
   "id": "8ed5a3bf",
   "metadata": {},
   "outputs": [],
   "source": [
    "#to count a same value\n",
    "ipl_df['player_of_match'].value_counts()"
   ]
  }
 ],
 "metadata": {
  "kernelspec": {
   "display_name": "Python 3 (ipykernel)",
   "language": "python",
   "name": "python3"
  },
  "language_info": {
   "codemirror_mode": {
    "name": "ipython",
    "version": 3
   },
   "file_extension": ".py",
   "mimetype": "text/x-python",
   "name": "python",
   "nbconvert_exporter": "python",
   "pygments_lexer": "ipython3",
   "version": "3.9.10"
  }
 },
 "nbformat": 4,
 "nbformat_minor": 5
}
